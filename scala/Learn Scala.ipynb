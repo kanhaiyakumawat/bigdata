{
 "cells": [
  {
   "cell_type": "markdown",
   "metadata": {},
   "source": [
    "# Basic Pricincipals\n",
    "1. Uses JVM for running\n",
    "1. Converts Scala code to Bytecode.\n",
    "1. Its functional prgramming as well object oriented language\n",
    "1. There are no primitive data types, everything is object. Even returned values too."
   ]
  },
  {
   "cell_type": "markdown",
   "metadata": {},
   "source": [
    "# Variables\n",
    "1. Variables are defined using keyword var\n",
    "1. Variables are Modifiable\n",
    "1. Typesafe, based on value the variable type is autodetermined"
   ]
  },
  {
   "cell_type": "code",
   "execution_count": 1,
   "metadata": {},
   "outputs": [
    {
     "data": {
      "text/plain": [
       "\u001b[36mabc\u001b[39m: \u001b[32mInt\u001b[39m = \u001b[32m1233\u001b[39m"
      ]
     },
     "execution_count": 1,
     "metadata": {},
     "output_type": "execute_result"
    }
   ],
   "source": [
    "var abc = 1233"
   ]
  },
  {
   "cell_type": "markdown",
   "metadata": {},
   "source": [
    "See above the variable is automatically typed as Int [object]"
   ]
  }
 ],
 "metadata": {
  "kernelspec": {
   "display_name": "Scala (develop)",
   "language": "scala",
   "name": "scala-develop"
  },
  "language_info": {
   "codemirror_mode": "text/x-scala",
   "file_extension": ".scala",
   "mimetype": "text/x-scala",
   "name": "scala211",
   "nbconvert_exporter": "script",
   "pygments_lexer": "scala",
   "version": "2.11.11"
  }
 },
 "nbformat": 4,
 "nbformat_minor": 2
}
