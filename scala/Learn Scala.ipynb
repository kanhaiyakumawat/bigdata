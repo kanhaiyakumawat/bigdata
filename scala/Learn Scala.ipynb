{
 "cells": [
  {
   "cell_type": "markdown",
   "metadata": {},
   "source": [
    "# Basic Pricincipals\n",
    "1. Uses JVM for running\n",
    "1. Converts Scala code to Bytecode.\n",
    "1. Its functional prgramming as well object oriented language\n",
    "1. There are no primitive data types, everything is object. Even returned values too.\n",
    "1. You need semi-colon only when you want to put multiple instructions in one line, otherwise its optional"
   ]
  },
  {
   "cell_type": "markdown",
   "metadata": {},
   "source": [
    "# Variables\n",
    "1. Variables are defined using keyword var\n",
    "1. Variables are Modifiable\n",
    "1. Typesafe, based on value the variable type is autodetermined"
   ]
  },
  {
   "cell_type": "code",
   "execution_count": 5,
   "metadata": {},
   "outputs": [
    {
     "data": {
      "text/plain": [
       "\u001b[36mabc\u001b[39m: \u001b[32mInt\u001b[39m = \u001b[32m1233\u001b[39m"
      ]
     },
     "execution_count": 5,
     "metadata": {},
     "output_type": "execute_result"
    }
   ],
   "source": [
    "var abc = 1233"
   ]
  },
  {
   "cell_type": "markdown",
   "metadata": {},
   "source": [
    "See above the variable is automatically typed as Int [object]"
   ]
  },
  {
   "cell_type": "markdown",
   "metadata": {},
   "source": [
    "# Values\n",
    "1. In contrast to variables, values are not editable. \n",
    "1. In other words values are immutable.\n",
    "1. Pure functional programming languages don't allow mutating any variable or values. But scala is flexible in that way."
   ]
  },
  {
   "cell_type": "code",
   "execution_count": 6,
   "metadata": {},
   "outputs": [
    {
     "data": {
      "text/plain": [
       "\u001b[36mmyvar\u001b[39m: \u001b[32mString\u001b[39m = \u001b[32m\"This is Immutable\"\u001b[39m"
      ]
     },
     "execution_count": 6,
     "metadata": {},
     "output_type": "execute_result"
    }
   ],
   "source": [
    "val myvar = \"This is Immutable\""
   ]
  },
  {
   "cell_type": "markdown",
   "metadata": {},
   "source": [
    "Now try to modify this"
   ]
  },
  {
   "cell_type": "code",
   "execution_count": 6,
   "metadata": {},
   "outputs": [
    {
     "name": "stderr",
     "output_type": "stream",
     "text": [
      "cmd6.sc:1: reassignment to val\n",
      "val res6 = myvar = \"Trying to Edit\"\n",
      "                 ^"
     ]
    },
    {
     "ename": "",
     "evalue": "",
     "output_type": "error",
     "traceback": [
      "Compilation Failed"
     ]
    }
   ],
   "source": [
    "myvar = \"Trying to Edit\""
   ]
  },
  {
   "cell_type": "markdown",
   "metadata": {},
   "source": [
    "It didn't allow"
   ]
  },
  {
   "cell_type": "markdown",
   "metadata": {},
   "source": [
    "# Methods/Functions\n",
    "## Defining a Function\n",
    "1. Function Definition starts with keyword **def**\n",
    "1. parameter Type is followed by the parameters name in constrast to Java\n",
    "1. Return type of function comes after parameters"
   ]
  }
 ],
 "metadata": {
  "kernelspec": {
   "display_name": "Scala (develop)",
   "language": "scala",
   "name": "scala-develop"
  },
  "language_info": {
   "codemirror_mode": "text/x-scala",
   "file_extension": ".scala",
   "mimetype": "text/x-scala",
   "name": "scala211",
   "nbconvert_exporter": "script",
   "pygments_lexer": "scala",
   "version": "2.11.11"
  }
 },
 "nbformat": 4,
 "nbformat_minor": 2
}
